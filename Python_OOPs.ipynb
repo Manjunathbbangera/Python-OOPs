{
  "nbformat": 4,
  "nbformat_minor": 0,
  "metadata": {
    "colab": {
      "provenance": []
    },
    "kernelspec": {
      "name": "python3",
      "display_name": "Python 3"
    },
    "language_info": {
      "name": "python"
    }
  },
  "cells": [
    {
      "cell_type": "markdown",
      "source": [
        "# **Python OOPs Questions**\n"
      ],
      "metadata": {
        "id": "KCbO0O41uJHL"
      }
    },
    {
      "cell_type": "markdown",
      "source": [
        "**Q1- What is Object-Oriented Programming (OOP)?**\n",
        "\n",
        "ANS- Object-Oriented Programming (OOP) is a programming paradigm based on the concept of objects, which contain data (attributes) and methods (functions). It allows for better organization, reusability, and modularity in code.\n",
        "\n",
        "**Q2- What is a class in OOP?**\n",
        "\n",
        "ANS- A class in Object-Oriented Programming (OOP) is a blueprint for creating objects. It defines attributes (variables) and methods (functions) that the objects will have.\n",
        "\n",
        "**Q3- What is an object in OOP?**\n",
        "\n",
        "Ans- In Object-Oriented Programming (OOP), an object is an instance of a class. It is a self-contained unit that bundles data (attributes/properties) and behavior (methods/functions) together.\n",
        "\n",
        "**Q4-  What is the difference between abstraction and encapsulatio**\n",
        "\n",
        "Ans- Abstraction and encapsulation are both fundamental concepts in Object-Oriented Programming (OOP), but they serve different purposes.\n",
        "\n",
        "1. Abstraction\n",
        "Definition: Abstraction is the process of hiding unnecessary details and exposing only the essential features of an object. It focuses on what an object does rather than how it does it.\n",
        "\n",
        "Purpose: Simplifies complex systems by providing a clear interface for interaction while hiding internal implementation details.\n",
        "\n",
        "2. Encapsulation\n",
        "Definition: Encapsulation is the practice of bundling data (attributes) and methods (functions) that operate on the data into a single unit (class) and restricting direct access to some details.\n",
        "\n",
        "Purpose: Protects data by preventing direct modification from outside the class. It enforces controlled access through getters and setters.\n",
        "\n",
        "**Q4- What are dunder methods in Python**\n",
        "\n",
        "ANS- Dunder methods, also called magic methods or special methods, are built-in methods in Python that begin and end with double underscores (__methodname__). They are used to define the behavior of objects in different situations, such as arithmetic operations, object creation, and string representation.\n",
        "\n",
        "**Q5- What are dunder methods in Python**\n",
        "\n",
        "ANS- Dunder methods, also called magic methods or special methods, are built-in methods in Python that begin and end with double underscores (__methodname__). They are used to define the behavior of objects in different situations, such as arithmetic operations, object creation, and string representation.\n",
        "\n",
        "**Q6- Explain the concept of inheritance in OOP?**\n",
        "\n",
        "ANS - Inheritance is an OOP principle that allows a class (child class) to inherit attributes and methods from another class (parent class). This helps in code reusability and establishes a relationship between different classes.\n",
        "\n",
        "**Q7- What is polymorphism in OOP**\n",
        "\n",
        "ANS- Polymorphism means \"many forms.\" It allows objects of different classes to be treated as objects of a common base class. The same function or method can behave differently depending on the object that calls it.\n",
        "\n",
        "**Q8-  How is encapsulation achieved in Python**\n",
        "\n",
        "ANS- Encapsulation is an OOP principle that bundles data (attributes) and methods (functions) into a single unit (class) while restricting direct access to some of the data. This helps in data protection and controlled modification.\n",
        "\n",
        "**Q9- What is a constructor in Python**\n",
        "\n",
        "ANS- A constructor is a special method in Python that is automatically called when an object is created. It is used to initialize attributes of a class.\n",
        "\n",
        "**Q10-  What are class and static methods in Python**\n",
        "\n",
        "ANS- In Python, methods are functions defined inside a class. There are three types of methods in a class:\n",
        "1 Instance Methods (regular methods)\n",
        "2 Class Methods (@classmethod)\n",
        "3 Static Methods (@staticmethod)\n",
        "\n",
        "**Q11- What is method overloading in Python**\n",
        "\n",
        "ANS- Method overloading allows multiple methods with the same name but different parameters in a class. However, Python does not support traditional method overloading like Java or C++. Instead, we achieve it using default arguments or *args.\n",
        "\n",
        "**Q12- What is method overriding in OOP**\n",
        "\n",
        "ANS- Method overriding is a feature in Object-Oriented Programming (OOP) where a child class provides a specific implementation of a method that is already defined in the parent class.\n",
        "\n",
        "A-The method in the child class must have the same name, parameters, and return type as in the parent class.\n",
        "B- It is used in inheritance to modify or extend the behavior of the parent class.\n",
        "\n",
        "**Q13-What is a property decorator in Python**\n",
        "\n",
        "ANS- The @property decorator in Python is used to define a getter method that allows accessing a class attribute as if it were a normal attribute, without calling a method explicitly.\n",
        "\n",
        "*It allows controlled access to instance attributes.\n",
        "*It replaces traditional getter and setter methods while keeping the syntax clean.\n",
        "\n",
        "**Q14-  Why is polymorphism important in OOP**\n",
        "\n",
        "ANS- Polymorphism in Object-Oriented Programming (OOP) allows objects of different classes to be treated as objects of a common super class. It enables a single interface to represent different data types or method implementations.\n",
        "\n",
        "**Q15-What is an abstract class in Python**\n",
        "\n",
        "ANS- An abstract class in Python is a class that cannot be instantiated and serves as a blueprint for other classes. It typically contains abstract methods, which must be implemented by its subclasses.\n",
        "\n",
        "Python provides abstract classes using the ABC (Abstract Base Class) module.\n",
        "\n",
        "**Q16-  What are the advantages of OOP**\n",
        "\n",
        "ANS- Object-Oriented Programming (OOP) is a programming paradigm that organizes code into objects, which are instances of classes. It offers several advantages, making code more efficient, maintainable, and scalable.\n",
        "\n",
        "**Q17- What is the difference between a class variable and an instance variable**\n",
        "\n",
        "ANS- In Object-Oriented Programming (OOP), variables in a class can be classified as class variables and instance variables. They differ in scope, behavior, and storage.\n",
        "\n",
        "**Q18- What is multiple inheritance in Python**\n",
        "\n",
        "ANS-\n",
        "\n",
        "A- Multiple inheritance allows a class to inherit from more than one parent class.\n",
        "B- The child class gains attributes and methods from all parent classes.\n",
        "C-This increases code reusability but can introduce complexity (e.g., method resolution order).\n",
        "\n",
        "**Q19- Explain the purpose of ‘’__str__’ and ‘__repr__’ ‘ methods in Python**\n",
        "\n",
        "ANS- In Python, both __str__ and __repr__ are dunder (double underscore) methods that define how an object is represented as a string. However, they serve different purposes.\n",
        "\n",
        "**Q20- What is the significance of the ‘super()’ function in Python**\n",
        "\n",
        "ANS- The super() function in Python is used to call methods from a parent (superclass) within a child class. It is primarily used in inheritance to avoid redundancy and ensure that the parent class’s methods are properly executed.\n",
        "\n",
        "**Q21- What is the significance of the __del__ method in Python**\n",
        "\n",
        "ANS- The __del__ method, also known as the destructor, is a special method in Python that is automatically called when an object is about to be destroyed (garbage collected).\n",
        "\n",
        "**Q22-  What is the difference between @staticmethod and @classmethod in Python**\n",
        "\n",
        "ANS- Python provides two types of methods that can be used inside a class but are not tied to an instance:\n",
        "\n",
        "@staticmethod – A method that doesn’t use class or instance data.\n",
        "@classmethod – A method that operates on the class itself and receives cls as an argument.\n",
        "\n",
        "**Q23- How does polymorphism work in Python with inheritance**\n",
        "\n",
        "ANS- Polymorphism in Object-Oriented Programming (OOP) allows the same method to have different behaviors based on the object that calls it. It enables code reusability and flexibility by allowing different classes to define their own implementations of a common method.\n",
        "\n",
        "**Q24- What is method chaining in Python OOP**\n",
        "\n",
        "ANS- Method Chaining is a technique in Object-Oriented Programming (OOP) where multiple methods are called on the same object in a single statement. This is achieved by making each method return self, allowing the next method to be called on the same instance.\n",
        "\n",
        "**Q25- What is the purpose of the __call__ method in Python**\n",
        "\n",
        "ANS- In Python, the __call__ method allows an instance of a class to be called like a function. This makes an object callable, meaning it can behave like a function while still maintaining its state.\n"
      ],
      "metadata": {
        "id": "hBbvoMP5uSYp"
      }
    },
    {
      "cell_type": "markdown",
      "source": [
        "# **Practical Questions**"
      ],
      "metadata": {
        "id": "lNYRmhOhvP3u"
      }
    },
    {
      "cell_type": "code",
      "source": [
        "#Q1- Create a parent class Animal with a method speak() that prints a generic message. Create a child class Dog that overrides the speak() method to print \"Bark!\".\n",
        "\n",
        "class Animal:\n",
        "    def speak(self):\n",
        "        print(\"Generic message\")\n",
        "\n",
        "class Dog(Animal):\n",
        "    def speak(self):\n",
        "        print(\"Bark!\")\n",
        "\n",
        "# Creating objects\n",
        "animal = Animal()\n",
        "dog = Dog()\n",
        "\n",
        "# Calling the speak method\n",
        "animal.speak()  # Output: This animal makes a sound.\n",
        "dog.speak()     # Output: Bark!\n",
        "\n"
      ],
      "metadata": {
        "colab": {
          "base_uri": "https://localhost:8080/"
        },
        "id": "T5dHuFWCvjCm",
        "outputId": "ba78ffdb-ba61-4e26-f35f-ea7e0415e77a"
      },
      "execution_count": null,
      "outputs": [
        {
          "output_type": "stream",
          "name": "stdout",
          "text": [
            "Generic message\n",
            "Bark!\n"
          ]
        }
      ]
    },
    {
      "cell_type": "code",
      "source": [
        "#Q2-  Write a program to create an abstract class Shape with a method area(). Derive classes Circle and Rectangle from it and implement the area() method in both.\n",
        "from abc import ABC, abstractmethod\n",
        "\n",
        "# Abstract class\n",
        "class Shape(ABC):\n",
        "    @abstractmethod\n",
        "    def area(self):\n",
        "        pass  # Abstract method (must be implemented in child classes)\n",
        "\n",
        "# Derived class: Circle\n",
        "class Circle(Shape):\n",
        "    def __init__(self, radius):\n",
        "        self.radius = radius\n",
        "\n",
        "    def area(self):\n",
        "        return 3.14 * self.radius * self.radius  # πr²\n",
        "\n",
        "# Derived class: Rectangle\n",
        "class Rectangle(Shape):\n",
        "    def __init__(self, width, height):\n",
        "        self.width = width\n",
        "        self.height = height\n",
        "\n",
        "    def area(self):\n",
        "        return self.width * self.height  # width × height\n",
        "\n",
        "# Creating objects\n",
        "circle = Circle(5)\n",
        "rectangle = Rectangle(4, 6)\n",
        "\n",
        "# Printing areas\n",
        "print(\"Circle Area:\", circle.area())       # Output: 78.5\n",
        "print(\"Rectangle Area:\", rectangle.area()) # Output: 24\n"
      ],
      "metadata": {
        "colab": {
          "base_uri": "https://localhost:8080/"
        },
        "id": "6RMpWtr-wWSt",
        "outputId": "7690d8a1-a710-48c2-a2b7-a86aaf0cff25"
      },
      "execution_count": null,
      "outputs": [
        {
          "output_type": "stream",
          "name": "stdout",
          "text": [
            "Circle Area: 78.5\n",
            "Rectangle Area: 24\n"
          ]
        }
      ]
    },
    {
      "cell_type": "code",
      "source": [
        "#Q3-  Implement a multi-level inheritance scenario where a class Vehicle has an attribute type. Derive a class Car and further derive a class ElectricCar that adds a battery attribute\n",
        "\n",
        "# Base class\n",
        "class Vehicle:\n",
        "    def __init__(self, type):\n",
        "        self.type = type\n",
        "\n",
        "# Derived class\n",
        "class Car(Vehicle):\n",
        "    def __init__(self, type, brand):\n",
        "        super().__init__(type)  # Inherit from Vehicle\n",
        "        self.brand = brand\n",
        "\n",
        "# Further derived class\n",
        "class ElectricCar(Car):\n",
        "    def __init__(self, type, brand, battery_capacity):\n",
        "        super().__init__(type, brand)  # Inherit from Car\n",
        "        self.battery_capacity = battery_capacity\n",
        "\n",
        "    def display_info(self):\n",
        "        return f\"Type: {self.type}, Brand: {self.brand}, Battery: {self.battery_capacity} kWh\"\n",
        "\n",
        "# Creating an object\n",
        "tata = ElectricCar(\"Electric\", \"Tata\", 75)\n",
        "\n",
        "# Printing details\n",
        "print(tata.display_info())  # Output: Type: Electric, Brand: Tata, Battery: 75 kWh\n"
      ],
      "metadata": {
        "colab": {
          "base_uri": "https://localhost:8080/"
        },
        "id": "vtMlcPnrxn44",
        "outputId": "58dab9fd-56fc-4530-e24d-40c6a48ea05f"
      },
      "execution_count": null,
      "outputs": [
        {
          "output_type": "stream",
          "name": "stdout",
          "text": [
            "Type: Electric, Brand: Tata, Battery: 75 kWh\n"
          ]
        }
      ]
    },
    {
      "cell_type": "code",
      "source": [
        "#Q4- Demonstrate polymorphism by creating a base class Bird with a method fly(). Create two derived classes Sparrow and Penguin that override the fly() method\n",
        "\n",
        "# Base class\n",
        "class Bird:\n",
        "    def fly(self):\n",
        "        print(\"Birds can fly.\")\n",
        "\n",
        "# Derived class: Sparrow\n",
        "class Sparrow(Bird):\n",
        "    def fly(self):\n",
        "        print(\"Sparrow flies high!\")\n",
        "\n",
        "# Derived class: Penguin\n",
        "class Penguin(Bird):\n",
        "    def fly(self):\n",
        "        print(\"Penguins cannot fly, they swim!\")\n",
        "\n",
        "# Creating objects\n",
        "sparrow = Sparrow()\n",
        "penguin = Penguin()\n",
        "\n",
        "# Demonstrating polymorphism\n",
        "sparrow.fly()  # Output: Sparrow flies high!\n",
        "penguin.fly()  # Output: Penguins cannot fly, they swim!\n"
      ],
      "metadata": {
        "colab": {
          "base_uri": "https://localhost:8080/"
        },
        "id": "11bPH6z0x11H",
        "outputId": "f3733d29-c55e-4558-db20-120c85bae94c"
      },
      "execution_count": null,
      "outputs": [
        {
          "output_type": "stream",
          "name": "stdout",
          "text": [
            "Sparrow flies high!\n",
            "Penguins cannot fly, they swim!\n"
          ]
        }
      ]
    },
    {
      "cell_type": "code",
      "source": [
        "#Q5- Write a program to demonstrate encapsulation by creating a class BankAccount with private attributes balance and methods to deposit, withdraw, and check balance.\n",
        "\n",
        "class BankAccount:\n",
        "    def __init__(self, balance=0):\n",
        "        self.__balance = balance  # Private attribute\n",
        "\n",
        "    def deposit(self, amount):\n",
        "        if amount > 0:\n",
        "            self.__balance += amount\n",
        "            print(f\"Deposited: ${amount}\")\n",
        "        else:\n",
        "            print(\"Deposit amount must be positive.\")\n",
        "\n",
        "    def withdraw(self, amount):\n",
        "        if 0 < amount <= self.__balance:\n",
        "            self.__balance -= amount\n",
        "            print(f\"Withdrawn: ${amount}\")\n",
        "        else:\n",
        "            print(\"Insufficient balance or invalid amount.\")\n",
        "\n",
        "    def check_balance(self):\n",
        "        return f\"Current Balance: ${self.__balance}\"\n",
        "\n",
        "# Creating an account object\n",
        "account = BankAccount(100)\n",
        "\n",
        "# Performing operations\n",
        "account.deposit(50)\n",
        "account.withdraw(30)\n",
        "print(account.check_balance())  # Output: Current Balance: $120\n",
        "\n",
        "# Attempting to access private attribute (will raise an error)\n",
        "# print(account.__balance)  # Uncommenting this will cause an AttributeError\n"
      ],
      "metadata": {
        "colab": {
          "base_uri": "https://localhost:8080/"
        },
        "id": "NP2_P2qqyVyn",
        "outputId": "a6658e91-fb69-4e7c-b13a-22f9220ea214"
      },
      "execution_count": null,
      "outputs": [
        {
          "output_type": "stream",
          "name": "stdout",
          "text": [
            "Deposited: $50\n",
            "Withdrawn: $30\n",
            "Current Balance: $120\n"
          ]
        }
      ]
    },
    {
      "cell_type": "code",
      "source": [
        "#Q6-  Demonstrate runtime polymorphism using a method play() in a base class Instrument. Derive classes Guitar and Piano that implement their own version of play().\n",
        "\n",
        "# Base class\n",
        "class Instrument:\n",
        "    def play(self):\n",
        "        print(\"Playing an instrument.\")\n",
        "\n",
        "# Derived class: Guitar\n",
        "class Guitar(Instrument):\n",
        "    def play(self):\n",
        "        print(\"Strumming the guitar!\")\n",
        "\n",
        "# Derived class: Piano\n",
        "class Piano(Instrument):\n",
        "    def play(self):\n",
        "        print(\"Playing the piano keys!\")\n",
        "\n",
        "# Function demonstrating polymorphism\n",
        "def perform(instrument):\n",
        "    instrument.play()\n",
        "\n",
        "# Creating objects\n",
        "guitar = Guitar()\n",
        "piano = Piano()\n",
        "\n",
        "# Calling the function with different objects\n",
        "perform(guitar)  # Output: Strumming the guitar!\n",
        "perform(piano)   # Output: Playing the piano keys!\n"
      ],
      "metadata": {
        "colab": {
          "base_uri": "https://localhost:8080/"
        },
        "id": "tkEyLaJLyhud",
        "outputId": "54a91e98-248d-4b5d-bd22-7fdce21a45fa"
      },
      "execution_count": null,
      "outputs": [
        {
          "output_type": "stream",
          "name": "stdout",
          "text": [
            "Strumming the guitar!\n",
            "Playing the piano keys!\n"
          ]
        }
      ]
    },
    {
      "cell_type": "code",
      "source": [
        "#Q7- Create a class MathOperations with a class method add_numbers() to add two numbers and a static method subtract_numbers() to subtract two numbers\n",
        "\n",
        "class MathOperations:\n",
        "    @classmethod\n",
        "    def add_numbers(cls, a, b):  # Class method\n",
        "        return a + b\n",
        "\n",
        "    @staticmethod\n",
        "    def subtract_numbers(a, b):  # Static method\n",
        "        return a - b\n",
        "\n",
        "# Using class method\n",
        "print(\"Addition:\", MathOperations.add_numbers(10, 5))  # Output: 15\n",
        "\n",
        "# Using static method\n",
        "print(\"Subtraction:\", MathOperations.subtract_numbers(10, 5))  # Output: 5\n",
        "\n"
      ],
      "metadata": {
        "colab": {
          "base_uri": "https://localhost:8080/"
        },
        "id": "MZcT5hww0ISZ",
        "outputId": "37003b65-a575-472d-8db5-6f5e174147b7"
      },
      "execution_count": null,
      "outputs": [
        {
          "output_type": "stream",
          "name": "stdout",
          "text": [
            "Addition: 15\n",
            "Subtraction: 5\n"
          ]
        }
      ]
    },
    {
      "cell_type": "code",
      "source": [
        "#Q8-Implement a class Person with a class method to count the total number of persons created\n",
        "\n",
        "class Person:\n",
        "    count = 0  # Class variable to track the number of persons\n",
        "\n",
        "    def __init__(self, name):\n",
        "        self.name = name\n",
        "        Person.count += 1  # Increment count when a new person is created\n",
        "\n",
        "    @classmethod\n",
        "    def total_persons(cls):\n",
        "        return f\"Total persons created: {cls.count}\"\n",
        "\n",
        "# Creating objects\n",
        "p1 = Person(\"Alice\")\n",
        "p2 = Person(\"Bob\")\n",
        "p3 = Person(\"Charlie\")\n",
        "\n",
        "# Checking the total count\n",
        "print(Person.total_persons())  # Output: Total persons created: 3\n"
      ],
      "metadata": {
        "colab": {
          "base_uri": "https://localhost:8080/"
        },
        "id": "jGAME42C0TJY",
        "outputId": "fc7b4538-665f-4605-88d8-b58c1059741f"
      },
      "execution_count": null,
      "outputs": [
        {
          "output_type": "stream",
          "name": "stdout",
          "text": [
            "Total persons created: 3\n"
          ]
        }
      ]
    },
    {
      "cell_type": "code",
      "source": [
        "#Q9- Write a class Fraction with attributes numerator and denominator. Override the str method to display the fraction as \"numerator/denominator\n",
        "\n",
        "class Fraction:\n",
        "    def __init__(self, numerator, denominator):\n",
        "        self.numerator = numerator\n",
        "        self.denominator = denominator\n",
        "\n",
        "    def __str__(self):\n",
        "        return f\"{self.numerator}/{self.denominator}\"\n",
        "\n",
        "# Creating fraction objects\n",
        "f1 = Fraction(3, 4)\n",
        "f2 = Fraction(5, 8)\n",
        "\n",
        "# Printing the fractions\n",
        "print(f1)  # Output: 3/4\n",
        "print(f2)  # Output: 5/8\n"
      ],
      "metadata": {
        "colab": {
          "base_uri": "https://localhost:8080/"
        },
        "id": "-6lvb5vo0dNQ",
        "outputId": "c14453fe-920a-4a54-f879-d1351fd38f2d"
      },
      "execution_count": null,
      "outputs": [
        {
          "output_type": "stream",
          "name": "stdout",
          "text": [
            "3/4\n",
            "5/8\n"
          ]
        }
      ]
    },
    {
      "cell_type": "code",
      "source": [
        "#Q10-Demonstrate operator overloading by creating a class Vector and overriding the add method to add two vectors\n",
        "\n",
        "class Vector:\n",
        "    def __init__(self, x, y):\n",
        "        self.x = x\n",
        "        self.y = y\n",
        "\n",
        "    def __add__(self, other):\n",
        "        return Vector(self.x + other.x, self.y + other.y)  # Adding corresponding components\n",
        "\n",
        "    def __str__(self):\n",
        "        return f\"({self.x}, {self.y})\"\n",
        "\n",
        "# Creating vector objects\n",
        "v1 = Vector(2, 3)\n",
        "v2 = Vector(4, 5)\n",
        "\n",
        "# Adding two vectors using overloaded +\n",
        "result = v1 + v2\n",
        "\n",
        "# Printing the result\n",
        "print(result)  # Output: (6, 8)\n"
      ],
      "metadata": {
        "colab": {
          "base_uri": "https://localhost:8080/"
        },
        "id": "LZ-4tk321BgW",
        "outputId": "694693d8-c7f8-4b09-d373-38466957eecd"
      },
      "execution_count": null,
      "outputs": [
        {
          "output_type": "stream",
          "name": "stdout",
          "text": [
            "(6, 8)\n"
          ]
        }
      ]
    },
    {
      "cell_type": "code",
      "source": [
        "#Q11-  Create a class Person with attributes name and age. Add a method greet() that prints \"Hello, my name is {name} and I am {age} years old.\n",
        "\n",
        "class Person:\n",
        "    def __init__(self, name, age):\n",
        "        self.name = name\n",
        "        self.age = age\n",
        "\n",
        "    def greet(self):\n",
        "        print(f\"Hello, my name is {self.name} and I am {self.age} years old.\")\n",
        "\n",
        "# Creating a Person object\n",
        "p1 = Person(\"Manjunath\", 30)\n",
        "\n",
        "# Calling the greet method\n",
        "p1.greet()  # Output: Hello, my name is Manjunath and I am 30 years old.\n"
      ],
      "metadata": {
        "colab": {
          "base_uri": "https://localhost:8080/"
        },
        "id": "ByVMLxHt1MUm",
        "outputId": "7637e4db-abad-47bc-de46-2601d1bbec2b"
      },
      "execution_count": null,
      "outputs": [
        {
          "output_type": "stream",
          "name": "stdout",
          "text": [
            "Hello, my name is Manjunath and I am 30 years old.\n"
          ]
        }
      ]
    },
    {
      "cell_type": "code",
      "source": [
        "#Q12 -  Implement a class Student with attributes name and grades. Create a method average_grade() to compute the average of the grades\n",
        "\n",
        "class Student:\n",
        "    def __init__(self, name, grades):\n",
        "        self.name = name\n",
        "        self.grades = grades  # List of grades\n",
        "\n",
        "    def average_grade(self):\n",
        "        return sum(self.grades) / len(self.grades) if self.grades else 0  # Avoid division by zero\n",
        "\n",
        "# Creating a Student object\n",
        "student1 = Student(\"RAM\", [85, 90, 78, 92])\n",
        "\n",
        "# Calculating and printing the average grade\n",
        "print(f\"{student1.name}'s Average Grade: {student1.average_grade():.2f}\")  # Output: Raam's Average Grade: 86.25\n"
      ],
      "metadata": {
        "colab": {
          "base_uri": "https://localhost:8080/"
        },
        "id": "Xen6CLKF1Zyd",
        "outputId": "854d23a5-9eac-4b96-f3f7-c494539755b4"
      },
      "execution_count": null,
      "outputs": [
        {
          "output_type": "stream",
          "name": "stdout",
          "text": [
            "RAM's Average Grade: 86.25\n"
          ]
        }
      ]
    },
    {
      "cell_type": "code",
      "source": [
        "#Q13- Create a class Rectangle with methods set_dimensions() to set the dimensions and area() to calculate the area\n",
        "\n",
        "\n",
        "class Rectangle:\n",
        "    def __init__(self):\n",
        "        self.length = 0\n",
        "        self.width = 0\n",
        "\n",
        "    def set_dimensions(self, length, width):\n",
        "        self.length = length\n",
        "        self.width = width\n",
        "\n",
        "    def area(self):\n",
        "        return self.length * self.width\n",
        "\n",
        "# Creating a Rectangle object\n",
        "rect = Rectangle()\n",
        "\n",
        "# Setting dimensions\n",
        "rect.set_dimensions(5, 10)\n",
        "\n",
        "# Calculating and printing the area\n",
        "print(\"Rectangle Area:\", rect.area())  # Output: Rectangle Area: 50\n"
      ],
      "metadata": {
        "colab": {
          "base_uri": "https://localhost:8080/"
        },
        "id": "PY_tNYRA1-c8",
        "outputId": "01152822-3bc4-4d57-8910-daf5e4a4e304"
      },
      "execution_count": null,
      "outputs": [
        {
          "output_type": "stream",
          "name": "stdout",
          "text": [
            "Rectangle Area: 50\n"
          ]
        }
      ]
    },
    {
      "cell_type": "code",
      "source": [
        "#Q14- Create a class Employee with a method calculate_salary() that computes the salary based on hours worked and hourly rate. Create a derived class Manager that adds a bonus to the salary\n",
        "\n",
        "# Base class\n",
        "class Employee:\n",
        "    def __init__(self, name, hours_worked, hourly_rate):\n",
        "        self.name = name\n",
        "        self.hours_worked = hours_worked\n",
        "        self.hourly_rate = hourly_rate\n",
        "\n",
        "    def calculate_salary(self):\n",
        "        return self.hours_worked * self.hourly_rate\n",
        "\n",
        "# Derived class\n",
        "class Manager(Employee):\n",
        "    def __init__(self, name, hours_worked, hourly_rate, bonus):\n",
        "        super().__init__(name, hours_worked, hourly_rate)  # Inheriting from Employee\n",
        "        self.bonus = bonus\n",
        "\n",
        "    def calculate_salary(self):\n",
        "        return super().calculate_salary() + self.bonus  # Base salary + bonus\n",
        "\n",
        "# Creating objects\n",
        "emp = Employee(\"Alice\", 40, 20)\n",
        "mgr = Manager(\"Bob\", 40, 30, 500)\n",
        "\n",
        "# Printing salaries\n",
        "print(f\"{emp.name}'s Salary: ${emp.calculate_salary()}\")  # Output: Alice's Salary: $800\n",
        "print(f\"{mgr.name}'s Salary: ${mgr.calculate_salary()}\")  # Output: Bob's Salary: $1700\n"
      ],
      "metadata": {
        "colab": {
          "base_uri": "https://localhost:8080/"
        },
        "id": "AyhhJ-Xw2MN6",
        "outputId": "6e166557-ecf5-4dfd-993d-f62a84035afe"
      },
      "execution_count": null,
      "outputs": [
        {
          "output_type": "stream",
          "name": "stdout",
          "text": [
            "Alice's Salary: $800\n",
            "Bob's Salary: $1700\n"
          ]
        }
      ]
    },
    {
      "cell_type": "code",
      "source": [
        "#Q15- Create a class Product with attributes name, price, and quantity. Implement a method total_price() that calculates the total price of the product.\n",
        "\n",
        "class Product:\n",
        "    def __init__(self, name, price, quantity):\n",
        "        self.name = name\n",
        "        self.price = price\n",
        "        self.quantity = quantity\n",
        "\n",
        "    def total_price(self):\n",
        "        return self.price * self.quantity  # Total price = price × quantity\n",
        "\n",
        "# Creating a Product object\n",
        "product1 = Product(\"Laptop\", 800, 2)\n",
        "\n",
        "# Calculating and printing the total price\n",
        "print(f\"Total price of {product1.name}: ${product1.total_price()}\")  # Output: Total price of Laptop: $1600\n"
      ],
      "metadata": {
        "colab": {
          "base_uri": "https://localhost:8080/"
        },
        "id": "4e0TLTtI2Yo6",
        "outputId": "21a2c088-e3ca-429d-cfbe-c288ad268739"
      },
      "execution_count": null,
      "outputs": [
        {
          "output_type": "stream",
          "name": "stdout",
          "text": [
            "Total price of Laptop: $1600\n"
          ]
        }
      ]
    },
    {
      "cell_type": "code",
      "source": [
        "#Q16-  Create a class Animal with an abstract method sound(). Create two derived classes Cow and Sheep that implement the sound() method.\n",
        "\n",
        "from abc import ABC, abstractmethod\n",
        "\n",
        "# Abstract base class\n",
        "class Animal(ABC):\n",
        "    @abstractmethod\n",
        "    def sound(self):\n",
        "        pass  # Abstract method (must be implemented in child classes)\n",
        "\n",
        "# Derived class: Cow\n",
        "class Cow(Animal):\n",
        "    def sound(self):\n",
        "        return \"Moo!\"\n",
        "\n",
        "# Derived class: Sheep\n",
        "class Sheep(Animal):\n",
        "    def sound(self):\n",
        "        return \"Baa!\"\n",
        "\n",
        "# Creating objects\n",
        "cow = Cow()\n",
        "sheep = Sheep()\n",
        "\n",
        "# Calling the sound method\n",
        "print(f\"Cow says: {cow.sound()}\")    # Output: Cow says: Moo!\n",
        "print(f\"Sheep says: {sheep.sound()}\") # Output: Sheep says: Baa!\n",
        "\n",
        "\n",
        "\n"
      ],
      "metadata": {
        "colab": {
          "base_uri": "https://localhost:8080/"
        },
        "id": "jcdvAMAy2onB",
        "outputId": "b036000d-23a4-4b5d-a88d-e96454f3a0a6"
      },
      "execution_count": null,
      "outputs": [
        {
          "output_type": "stream",
          "name": "stdout",
          "text": [
            "Cow says: Moo!\n",
            "Sheep says: Baa!\n"
          ]
        }
      ]
    },
    {
      "cell_type": "code",
      "source": [
        "#Q17- Create a class Book with attributes title, author, and year_published. Add a method get_book_info() that returns a formatted string with the book's details.\n",
        "\n",
        "class Book:\n",
        "    def __init__(self, title, author, year_published):\n",
        "        self.title = title\n",
        "        self.author = author\n",
        "        self.year_published = year_published\n",
        "\n",
        "    def get_book_info(self):\n",
        "        return f\"'{self.title}' by {self.author}, published in {self.year_published}.\"\n",
        "\n",
        "# Creating a Book object\n",
        "book1 = Book(\"To Kill a Mockingbird\", \"Harper Lee\", 1960)\n",
        "\n",
        "# Printing book information\n",
        "print(book1.get_book_info())\n",
        "# Output: 'To Kill a Mockingbird' by Harper Lee, published in 1960.\n"
      ],
      "metadata": {
        "colab": {
          "base_uri": "https://localhost:8080/"
        },
        "id": "oZLOA7Hq2_lw",
        "outputId": "e7cc3925-4d10-4fc8-8355-94e4f0dced56"
      },
      "execution_count": null,
      "outputs": [
        {
          "output_type": "stream",
          "name": "stdout",
          "text": [
            "'To Kill a Mockingbird' by Harper Lee, published in 1960.\n"
          ]
        }
      ]
    },
    {
      "cell_type": "code",
      "source": [
        "#Q18- Create a class House with attributes address and price. Create a derived class Mansion that adds an attribute number_of_rooms\n",
        "\n",
        "# Base class\n",
        "class House:\n",
        "    def __init__(self, address, price):\n",
        "        self.address = address\n",
        "        self.price = price\n",
        "\n",
        "    def get_info(self):\n",
        "        return f\"House at {self.address}, priced at ${self.price}.\"\n",
        "\n",
        "# Derived class\n",
        "class Mansion(House):\n",
        "    def __init__(self, address, price, number_of_rooms):\n",
        "        super().__init__(address, price)  # Inherit from House\n",
        "        self.number_of_rooms = number_of_rooms\n",
        "\n",
        "    def get_info(self):\n",
        "        return f\"Mansion at {self.address}, priced at ${self.price}, with {self.number_of_rooms} rooms.\"\n",
        "\n",
        "# Creating objects\n",
        "house = House(\"123 Main St\", 250000)\n",
        "mansion = Mansion(\"456 Luxury Ave\", 2000000, 10)\n",
        "\n",
        "# Printing information\n",
        "print(house.get_info())   # Output: House at 123 Main St, priced at $250000.\n",
        "print(mansion.get_info()) # Output: Mansion at 456 Luxury Ave, priced at $2000000, with 10 rooms.\n"
      ],
      "metadata": {
        "colab": {
          "base_uri": "https://localhost:8080/"
        },
        "id": "dXcqwaC73Mfw",
        "outputId": "b3b7973d-2406-4a99-96a6-cf77004ffb11"
      },
      "execution_count": null,
      "outputs": [
        {
          "output_type": "stream",
          "name": "stdout",
          "text": [
            "House at 123 Main St, priced at $250000.\n",
            "Mansion at 456 Luxury Ave, priced at $2000000, with 10 rooms.\n"
          ]
        }
      ]
    },
    {
      "cell_type": "code",
      "source": [],
      "metadata": {
        "id": "ag6VX_wR3Vpn"
      },
      "execution_count": null,
      "outputs": []
    }
  ]
}